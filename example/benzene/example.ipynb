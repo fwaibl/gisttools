{
 "cells": [
  {
   "cell_type": "markdown",
   "metadata": {},
   "source": [
    "# GIST postprocessing using gisttools"
   ]
  },
  {
   "cell_type": "markdown",
   "metadata": {},
   "source": [
    "## Installation of required packages \n",
    "A number of python packages are necessary to run this tutorial. Besides the prerequisites to run [gisttools](https://github.com/liedllab/gisttools), the following packages are needed:\n",
    "* [matplotlib](https://matplotlib.org/) \n",
    "* [nglview](https://github.com/nglviewer/nglview)\n",
    "* [scikit-image](https://scikit-image.org)\n",
    "* [ipyvolume](https://github.com/maartenbreddels/ipyvolume)"
   ]
  },
  {
   "cell_type": "markdown",
   "metadata": {},
   "source": [
    "## Loading files"
   ]
  },
  {
   "cell_type": "code",
   "execution_count": 1,
   "metadata": {},
   "outputs": [],
   "source": [
    "import gisttools as gt\n",
    "import numpy as np\n",
    "import pandas as pd\n",
    "import mdtraj as md\n",
    "import matplotlib.pyplot as plt"
   ]
  },
  {
   "cell_type": "markdown",
   "metadata": {},
   "source": [
    "**How to load a GIST output file**\n",
    "* If we don't set n_frames and rho0, they will be autodetected. n_frames is the number of frames that were used in the GIST calculation, and rho0 is the reference density. rho0 should match the value set in the GIST input file.\n",
    "* I recommend to use the autodetection and then check whether the results are correct, since this may also help to detect errors in the file format etc.\n",
    "* If we want our energy values to be referenced to bulk, we need to set eww_ref correctly. This can also be done later, since the reference value is applied dynamically. See below for more information.\n",
    "* The reference structure *struct* provides the default coordinates (\"*centers*\") for the analysis functions. It should be oriented exactly the same way as the solute during the GIST calculation. If you don't want the hydrogen atoms to be included in your analyses, you may specify *strip_H=True* to remove them."
   ]
  },
  {
   "cell_type": "code",
   "execution_count": 2,
   "metadata": {},
   "outputs": [
    {
     "name": "stdout",
     "output_type": "stream",
     "text": [
      "n_frames = 10000, rho0 = 0.03289974737578259\n"
     ]
    }
   ],
   "source": [
    "gistfile = gt.gist.load_gist_file('out.dat.gz', struct='benzene.pdb', eww_ref=-9.533)\n",
    "print(f'n_frames = {gistfile.n_frames}, rho0 = {gistfile.rho0}')"
   ]
  },
  {
   "cell_type": "markdown",
   "metadata": {},
   "source": [
    "**How to obtain a value for eww_ref**\n",
    "* The correct value for `eww_ref` depends on the water model and the simulation conditions, especially on the temperature. There is also a small dependence on the box size, so if you can, you should use a reference value that was calculated from a simulation box with roughly the correct size.\n",
    "* There are 2 ways of calculating reference values: from a reference simulation of pure water (manually), or from bulk-like (i.e., far away from the solute) regions of your GIST calculation box (using `detect_reference_value`).\n",
    "* To calculate a reference energy manually from a pure water simulation, you should perform a GIST calculation and then use:\n",
    "\n",
    "    $E_{ww}^{ref} = V_{voxel} N_{frames} \\frac{\\sum{E_{ww, unref}^{dens}}}{\\sum{population}}$\n",
    "* `detect_reference_value` automatically calculates reference values, e.g. for `Eww_unref`. It only uses the values at a certain distance from the solute, assuming that there is no disturbance of the water properties any more. `detect_reference_value` performs some simple sanity checks (via the parameters `max_spread`, `min_relative_population`, and `n_bins`). Nevertheless, manual convergence checks should be done.\n",
    "\n",
    "* Unless a modern version of GIGIST is used (which has more nearest neighbor search, and better volume calculation for the NN entropy), the bulk S(six) and S(orient) values don't converge exactly to zero. When integrating over very large regions of the box, this can sum up to a high value. In that case, you might also want to reference the entropy. Currently, there is no `dtssix_ref` implemented, but the referencing can be done manually by subtracting from the `_norm` column and then computing the `_dens` column using the `norm2dens` method."
   ]
  },
  {
   "cell_type": "code",
   "execution_count": 3,
   "metadata": {},
   "outputs": [
    {
     "name": "stdout",
     "output_type": "stream",
     "text": [
      "Reference value calculated using the method for a pure-water simulation:\n",
      "Eww_ref = -9.534611937412624\n"
     ]
    }
   ],
   "source": [
    "# This is how to get a reference value manually from a pure-water simulation.\n",
    "# This yields a wrong value in this case, becasue the GIST calculation contains a solute!\n",
    "pure_water_ref = gistfile['Eww_unref_dens'].sum() * gistfile.grid.voxel_volume * gistfile.n_frames / gistfile['population'].sum()\n",
    "print(f'Reference value calculated using the method for a pure-water simulation:\\nEww_ref = {pure_water_ref}')"
   ]
  },
  {
   "cell_type": "code",
   "execution_count": 4,
   "metadata": {},
   "outputs": [
    {
     "name": "stdout",
     "output_type": "stream",
     "text": [
      "Reference values calculated from the bulk water of a simulation containing a solute:\n"
     ]
    },
    {
     "data": {
      "text/plain": [
       "Eww_unref   -9.539297\n",
       "dTSsix       0.007744\n",
       "dtype: float64"
      ]
     },
     "execution_count": 4,
     "metadata": {},
     "output_type": "execute_result"
    }
   ],
   "source": [
    "# If there is a solute present (like in this case), this method should be used instead.\n",
    "# This does not set the reference values, it only returns them.\n",
    "print('Reference values calculated from the bulk water of a simulation containing a solute:')\n",
    "gistfile.detect_reference_value(['Eww_unref', 'dTSsix'], dlim=(16, 22))"
   ]
  },
  {
   "cell_type": "markdown",
   "metadata": {},
   "source": [
    "## Accessing data"
   ]
  },
  {
   "cell_type": "markdown",
   "metadata": {},
   "source": [
    "### Column access\n",
    "\n",
    "GIST columns can be accessed via `__getitem__`, e.g., `gist['Eww_dens']`.\n",
    "\n",
    "**\"Recipes\" / dynamically calculated data columns**\n",
    "\n",
    "There are several automatically calculated data columns that can be used in Gist objects. They are calculated on-demand and can be used like a normal column in the analyses or via `__getitem__`. Note that access to these columns is of course slower, so if you need to access them very often, consider saving them into a local Series (or ndarray). Setting these columns (`gist['A_norm'] = gist['A_norm']`) turns them into \"normal\" columns, and prevents automatic updating in the future!\n",
    "\n",
    "An explanation of the different values can be found e.g. in: Kraml J, Kamenik AS, Waibl F, Schauperl M, Liedl KR. Solvation Free Energy as a Measure of Hydrophobicity: Application to Serine Protease Binding Interfaces. J Chem Theory Comput. 2019;15(11):5872-5882. doi:10.1021/acs.jctc.9b00742\n",
    "\n",
    "Also, please consult the Amber manual for a detailed description of the computed values.\n",
    "\n",
    "* The free energy `A_norm` is calculated from `Eww_norm`, `Esw_norm`, and `dTSsix_norm`.\n",
    "* A sum of the energy contributions `E_all_norm` is calculated from `Eww_norm` and `Esw_norm`.\n",
    "* If `dTSsix_norm` is not available, it is calculated from `dTStrans_norm` and `dTSorient_norm`. Note that this is strictly speaking not exactly the same as the \"real\" dTSsix.\n",
    "* The respective `_dens` columns are calculated from their `norm` counterparts. The same functionality can be used manually via the `dens2norm` method.\n",
    "\n",
    "**Specifying data columns in the analysis methods**\n",
    "\n",
    "The analysis methods (e.g. `projection_mean`, `projection_nearest`, `detect_reference_value`, `integrate_around`) are defined such that they either require solely `_dens` or `_norm` columns. Therefore, they append the correct suffix automatically. This means that you should specify columns *without* the suffix, e.g. `projection_mean(['A', 'dTSsix'], ...`). To suppress this behaviour, specify `col_suffix=\"\"` (an empty string)."
   ]
  },
  {
   "cell_type": "code",
   "execution_count": 5,
   "metadata": {},
   "outputs": [
    {
     "data": {
      "text/plain": [
       "0    0.003072\n",
       "1    0.008245\n",
       "2    0.014004\n",
       "3    0.005351\n",
       "4   -0.001607\n",
       "dtype: float64"
      ]
     },
     "execution_count": 5,
     "metadata": {},
     "output_type": "execute_result"
    }
   ],
   "source": [
    "gistfile['A_dens'].head()"
   ]
  },
  {
   "cell_type": "markdown",
   "metadata": {},
   "source": [
    "### Row / voxel access\n",
    "\n",
    "To select a subset of the voxels at the same time, use the `.loc` accessor, which works similar to `pandas` (but not exactly the same...).\n",
    "\n",
    "**Accessing voxels**\n",
    "\n",
    "Since Gist objects internally use a DataFrame with a single index to store their data, one needs flat (unravelled) indices to access individual voxels.\n",
    "* Ranges can be used to access voxels. Note that the returned range includes the stop element! This is consistent with the behaviour of `pandas`, but different to `numpy`.\n",
    "* More commonly, you might want to use lists or arrays of indices to access an array of voxels.\n",
    "* If you want numpy-like indexing behaviour, feel free to extract the values of a data column. This also allows you to index the x, y and z directions simultaneously."
   ]
  },
  {
   "cell_type": "code",
   "execution_count": 6,
   "metadata": {},
   "outputs": [
    {
     "data": {
      "text/plain": [
       "2    0.014004\n",
       "3    0.005351\n",
       "4   -0.001607\n",
       "5   -0.012076\n",
       "dtype: float64"
      ]
     },
     "execution_count": 6,
     "metadata": {},
     "output_type": "execute_result"
    }
   ],
   "source": [
    "# pandas-like row indexing\n",
    "gistfile.loc[2:5, 'A_dens']"
   ]
  },
  {
   "cell_type": "code",
   "execution_count": 7,
   "metadata": {},
   "outputs": [
    {
     "data": {
      "text/plain": [
       "array([[[ 0.00307163,  0.00824486],\n",
       "        [-0.00726731,  0.00138487]],\n",
       "\n",
       "       [[ 0.00826576, -0.00397175],\n",
       "        [-0.00996958, -0.00506851]]])"
      ]
     },
     "execution_count": 7,
     "metadata": {},
     "output_type": "execute_result"
    }
   ],
   "source": [
    "# transform to an array to get numpy-like indexing capabilities\n",
    "arr = gistfile['A_dens'].values\n",
    "arr.reshape(gistfile.grid.shape)[0:2, 0:2, 0:2]"
   ]
  },
  {
   "cell_type": "markdown",
   "metadata": {},
   "source": [
    "**Choosing voxels**\n",
    "\n",
    "The Grid class contains functionality to deal with geometric voxel selection and conversion to flat (unravelled) voxels."
   ]
  },
  {
   "cell_type": "code",
   "execution_count": 8,
   "metadata": {},
   "outputs": [
    {
     "name": "stdout",
     "output_type": "stream",
     "text": [
      "Closest voxel to position [3.0, 4.3, 4.5]:  [305824]\n",
      "Closest voxel to position [3.0, 4.3, 4.5]:  [305824]\n",
      "Center of closest voxel: [[3.  4.5 4.5]]\n"
     ]
    }
   ],
   "source": [
    "# select the closest voxel to a certain point\n",
    "position = [3.0, 4.3, 4.5]\n",
    "print(f'Closest voxel to position {position}: ', gistfile.grid.assign(position))\n",
    "# Or, alternatively\n",
    "closest_3d_voxel = gistfile.grid.closest(position)\n",
    "closest_index = gistfile.grid.flat_indices(closest_3d_voxel)\n",
    "print(f'Closest voxel to position {position}: ', closest_index)\n",
    "# Check the center of the selected voxel\n",
    "closest_voxel_center = gistfile.grid.xyz(closest_3d_voxel)\n",
    "print(f'Center of closest voxel: {closest_voxel_center}')"
   ]
  },
  {
   "cell_type": "markdown",
   "metadata": {},
   "source": [
    "## Projection to B-Factors"
   ]
  },
  {
   "cell_type": "markdown",
   "metadata": {},
   "source": [
    "### Averaging around each atom (projection_mean)"
   ]
  },
  {
   "cell_type": "markdown",
   "metadata": {},
   "source": [
    "The `projection_mean` method assigns a value to each atom by averaging the values of nearby voxels.\n",
    "\n",
    "Different weighting functions can be chosen. For historic reasons, the default weighting function is a piecewise linear function which is constant until `rmax - 3`, and declines to zero between `rmax - 3` and `rmax`.\n",
    "\n",
    "For this, I like to set rather small `rmax` values. Alternatively, one could try playing around with other weighting functions."
   ]
  },
  {
   "cell_type": "code",
   "execution_count": 9,
   "metadata": {},
   "outputs": [
    {
     "name": "stdout",
     "output_type": "stream",
     "text": [
      "100 % of atoms processed.\n"
     ]
    },
    {
     "data": {
      "text/html": [
       "<div>\n",
       "<style scoped>\n",
       "    .dataframe tbody tr th:only-of-type {\n",
       "        vertical-align: middle;\n",
       "    }\n",
       "\n",
       "    .dataframe tbody tr th {\n",
       "        vertical-align: top;\n",
       "    }\n",
       "\n",
       "    .dataframe thead th {\n",
       "        text-align: right;\n",
       "    }\n",
       "</style>\n",
       "<table border=\"1\" class=\"dataframe\">\n",
       "  <thead>\n",
       "    <tr style=\"text-align: right;\">\n",
       "      <th></th>\n",
       "      <th>A</th>\n",
       "      <th>Eall</th>\n",
       "      <th>dTSsix</th>\n",
       "    </tr>\n",
       "  </thead>\n",
       "  <tbody>\n",
       "    <tr>\n",
       "      <th>0</th>\n",
       "      <td>0.243248</td>\n",
       "      <td>-0.242915</td>\n",
       "      <td>-0.486163</td>\n",
       "    </tr>\n",
       "    <tr>\n",
       "      <th>1</th>\n",
       "      <td>0.165534</td>\n",
       "      <td>-0.236789</td>\n",
       "      <td>-0.402323</td>\n",
       "    </tr>\n",
       "    <tr>\n",
       "      <th>2</th>\n",
       "      <td>0.243807</td>\n",
       "      <td>-0.242191</td>\n",
       "      <td>-0.485997</td>\n",
       "    </tr>\n",
       "    <tr>\n",
       "      <th>3</th>\n",
       "      <td>0.165569</td>\n",
       "      <td>-0.237004</td>\n",
       "      <td>-0.402573</td>\n",
       "    </tr>\n",
       "    <tr>\n",
       "      <th>4</th>\n",
       "      <td>0.247595</td>\n",
       "      <td>-0.244076</td>\n",
       "      <td>-0.491671</td>\n",
       "    </tr>\n",
       "  </tbody>\n",
       "</table>\n",
       "</div>"
      ],
      "text/plain": [
       "          A      Eall    dTSsix\n",
       "0  0.243248 -0.242915 -0.486163\n",
       "1  0.165534 -0.236789 -0.402323\n",
       "2  0.243807 -0.242191 -0.485997\n",
       "3  0.165569 -0.237004 -0.402573\n",
       "4  0.247595 -0.244076 -0.491671"
      ]
     },
     "execution_count": 9,
     "metadata": {},
     "output_type": "execute_result"
    }
   ],
   "source": [
    "proj_mean = gistfile.projection_mean(['A', 'Eall', 'dTSsix'], rmax=5.)\n",
    "proj_mean.head()"
   ]
  },
  {
   "cell_type": "markdown",
   "metadata": {},
   "source": [
    "### Projecting each voxel to the closest atom (projection_nearest)"
   ]
  },
  {
   "cell_type": "markdown",
   "metadata": {},
   "source": [
    "The `projection_nearest` method assigns the value of each voxel to the closest atom. The sum of atom values corresponds to the integral over the region defined by `rmax` Angstrom around the solute. Many atoms receive a value of zero, because the are excluded from the solvent. This projection produces a finer resolution on the molecular surface. Therefore, I often use higher `rmax` values here.\n",
    "\n",
    "For visualization purposes, it may be useful to remove hyrogens from the structure before doing this analysis."
   ]
  },
  {
   "cell_type": "code",
   "execution_count": 10,
   "metadata": {},
   "outputs": [
    {
     "data": {
      "text/html": [
       "<div>\n",
       "<style scoped>\n",
       "    .dataframe tbody tr th:only-of-type {\n",
       "        vertical-align: middle;\n",
       "    }\n",
       "\n",
       "    .dataframe tbody tr th {\n",
       "        vertical-align: top;\n",
       "    }\n",
       "\n",
       "    .dataframe thead th {\n",
       "        text-align: right;\n",
       "    }\n",
       "</style>\n",
       "<table border=\"1\" class=\"dataframe\">\n",
       "  <thead>\n",
       "    <tr style=\"text-align: right;\">\n",
       "      <th></th>\n",
       "      <th>A</th>\n",
       "      <th>Eall</th>\n",
       "      <th>dTSsix</th>\n",
       "    </tr>\n",
       "    <tr>\n",
       "      <th>atom_index</th>\n",
       "      <th></th>\n",
       "      <th></th>\n",
       "      <th></th>\n",
       "    </tr>\n",
       "  </thead>\n",
       "  <tbody>\n",
       "    <tr>\n",
       "      <th>0</th>\n",
       "      <td>-0.003797</td>\n",
       "      <td>-0.244094</td>\n",
       "      <td>-0.240296</td>\n",
       "    </tr>\n",
       "    <tr>\n",
       "      <th>1</th>\n",
       "      <td>0.116927</td>\n",
       "      <td>-0.873459</td>\n",
       "      <td>-0.990386</td>\n",
       "    </tr>\n",
       "    <tr>\n",
       "      <th>2</th>\n",
       "      <td>0.046629</td>\n",
       "      <td>-0.441714</td>\n",
       "      <td>-0.488344</td>\n",
       "    </tr>\n",
       "    <tr>\n",
       "      <th>3</th>\n",
       "      <td>0.110376</td>\n",
       "      <td>-0.787425</td>\n",
       "      <td>-0.897802</td>\n",
       "    </tr>\n",
       "    <tr>\n",
       "      <th>4</th>\n",
       "      <td>0.002583</td>\n",
       "      <td>-0.345354</td>\n",
       "      <td>-0.347937</td>\n",
       "    </tr>\n",
       "  </tbody>\n",
       "</table>\n",
       "</div>"
      ],
      "text/plain": [
       "                   A      Eall    dTSsix\n",
       "atom_index                              \n",
       "0          -0.003797 -0.244094 -0.240296\n",
       "1           0.116927 -0.873459 -0.990386\n",
       "2           0.046629 -0.441714 -0.488344\n",
       "3           0.110376 -0.787425 -0.897802\n",
       "4           0.002583 -0.345354 -0.347937"
      ]
     },
     "execution_count": 10,
     "metadata": {},
     "output_type": "execute_result"
    }
   ],
   "source": [
    "proj_nearest = gistfile.projection_nearest(['A', 'Eall', 'dTSsix'], rmax=10.)\n",
    "proj_nearest.head()"
   ]
  },
  {
   "cell_type": "markdown",
   "metadata": {},
   "source": [
    "### Writing PDBs"
   ]
  },
  {
   "cell_type": "markdown",
   "metadata": {},
   "source": [
    "The data generated by `projection_nearest` or `projection_mean` may be visualized by writing it into the B-factor column of a PDB file, using the `save_pdb` method."
   ]
  },
  {
   "cell_type": "code",
   "execution_count": 11,
   "metadata": {},
   "outputs": [],
   "source": [
    "import tempfile, os"
   ]
  },
  {
   "cell_type": "code",
   "execution_count": 12,
   "metadata": {},
   "outputs": [
    {
     "name": "stdout",
     "output_type": "stream",
     "text": [
      "REMARK   1 CREATED WITH MDTraj 1.9.7, 2022-01-19\n",
      "CRYST1   46.314   46.475   42.780  90.00  90.00  90.00 P 1           1 \n",
      "MODEL        0\n",
      "ATOM      1  C1  MOL A   1       1.168   0.809   0.023  1.00  0.24           C  \n",
      "ATOM      2  H1  MOL A   1       2.016   1.485   0.074  1.00  0.17           H  \n",
      "ATOM      3  C2  MOL A   1       1.296  -0.594   0.014  1.00  0.24           C  \n",
      "ATOM      4  H2  MOL A   1       2.240  -1.128  -0.044  1.00  0.17           H  \n",
      "ATOM      5  C4  MOL A   1       0.113  -1.407   0.025  1.00  0.25           C  \n"
     ]
    }
   ],
   "source": [
    "bfactors = proj_mean.A.values\n",
    "bfactors = np.clip(bfactors, -9.99, 99.99) # B-Factors can only use 2 digits before the comma.\n",
    "with tempfile.TemporaryDirectory() as tmpdir:\n",
    "    fname = os.path.join(tmpdir, 'test.pdb')\n",
    "    gistfile.struct.save_pdb(fname, bfactors=bfactors)\n",
    "    with open(fname) as f:\n",
    "        for l in f.readlines(500):\n",
    "            print(l, end='')"
   ]
  },
  {
   "cell_type": "markdown",
   "metadata": {},
   "source": [
    "If nglview is installed, the `preview_dataset` convenience method may be used to save a temporary PDB file and visualize it directly."
   ]
  },
  {
   "cell_type": "code",
   "execution_count": 13,
   "metadata": {},
   "outputs": [
    {
     "data": {
      "application/vnd.jupyter.widget-view+json": {
       "model_id": "fee7054b4c78434f84913cbb267e562e",
       "version_major": 2,
       "version_minor": 0
      },
      "text/plain": []
     },
     "metadata": {},
     "output_type": "display_data"
    },
    {
     "data": {
      "application/vnd.jupyter.widget-view+json": {
       "model_id": "339d441b1c0a4d2199997246467a8a80",
       "version_major": 2,
       "version_minor": 0
      },
      "text/plain": [
       "NGLWidget()"
      ]
     },
     "metadata": {},
     "output_type": "display_data"
    }
   ],
   "source": [
    "view = gt.utils.preview_dataset(gistfile.struct, proj_mean.A.values)\n",
    "view.display()"
   ]
  },
  {
   "cell_type": "markdown",
   "metadata": {},
   "source": [
    "## Integrating over the vicinity of the solute\n",
    "One of the most common quantities of interest in a GIST calculation is the total free energy of solvation (or the S and E contributions therof). `gisttools` provide tools to compute those quantities for the whole solute, as well as for a subset of the atoms. \n",
    "### Integrating around the whole solute\n",
    "To integrate around the whole solute, the `integrate_around` method may be used. It integrates over all voxels that lie within `rmax` of the supplied coordinates (by default, `gistfile.coord`)\n",
    "Small `rmax` values disregard a part of the energy, but are more robust to poor convergence of the bulk properties (due to bad sampling or inexact `rho0` or `eww_ref` values).\n",
    "\n",
    "Multiple columns can be specified at the same time."
   ]
  },
  {
   "cell_type": "code",
   "execution_count": 14,
   "metadata": {},
   "outputs": [
    {
     "data": {
      "text/plain": [
       "A         3.312558\n",
       "Eall     -6.221725\n",
       "dTSsix   -9.534282\n",
       "dtype: float64"
      ]
     },
     "execution_count": 14,
     "metadata": {},
     "output_type": "execute_result"
    }
   ],
   "source": [
    "gistfile.integrate_around(['A', 'Eall', 'dTSsix'], rmax=7.)"
   ]
  },
  {
   "cell_type": "markdown",
   "metadata": {},
   "source": [
    "The same can be done by hand:"
   ]
  },
  {
   "cell_type": "code",
   "execution_count": 15,
   "metadata": {},
   "outputs": [
    {
     "data": {
      "text/plain": [
       "A_dens         3.312558\n",
       "Eall_dens     -6.221725\n",
       "dTSsix_dens   -9.534282\n",
       "dtype: float64"
      ]
     },
     "execution_count": 15,
     "metadata": {},
     "output_type": "execute_result"
    }
   ],
   "source": [
    "centers = gistfile.struct.xyz[0] * 10.\n",
    "indices, _closest_atom, _distance = gistfile.distance_to_spheres(centers=centers, rmax=7.)\n",
    "gistfile.loc[indices, ['A_dens', 'Eall_dens', 'dTSsix_dens']].sum(0) * gistfile.grid.voxel_volume"
   ]
  },
  {
   "cell_type": "markdown",
   "metadata": {},
   "source": [
    "### Integrating around a subset of the solute\n",
    "To select only a part of the solute, the projection_nearest method should be used. Alternatively, one can also supply a subset of the molecular structure to `integrate_around`. However, this is **not** equivalent, since it includes parts of the solvent that are within `rmax` of the selected solute atoms, but even closer to others. If the selection does not form a large and well-defined patch, the difference can be massive."
   ]
  },
  {
   "cell_type": "code",
   "execution_count": 16,
   "metadata": {},
   "outputs": [
    {
     "name": "stdout",
     "output_type": "stream",
     "text": [
      "6 atoms selected\n",
      "Manual selection: 3.2767918180142295\n",
      "projection_nearest: 1.6764700305928297\n"
     ]
    }
   ],
   "source": [
    "selected_atoms = np.arange(6)\n",
    "print(f'{len(selected_atoms)} atoms selected')\n",
    "# Careful! The structure is an MDTraj trajectory object, which uses nm.\n",
    "print(\"Manual selection:\", gistfile.integrate_around(['A'], centers=gistfile.struct.xyz[0, selected_atoms, :] * 10., rmax=7.0)['A'])\n",
    "print(\"projection_nearest:\", gistfile.projection_nearest(['A'], rmax=7.0).loc[selected_atoms, 'A'].sum())"
   ]
  },
  {
   "cell_type": "markdown",
   "metadata": {},
   "source": [
    "If the selection *does* form a large and well-defined patch, and if the radius is small, the difference is not so big"
   ]
  },
  {
   "cell_type": "code",
   "execution_count": 17,
   "metadata": {},
   "outputs": [
    {
     "name": "stdout",
     "output_type": "stream",
     "text": [
      "6 atoms selected\n",
      "Manual selection: 1.7790240343503982\n",
      "projection_nearest: 1.6764700305928297\n"
     ]
    }
   ],
   "source": [
    "selected_atoms = np.arange(6)\n",
    "print(f'{len(selected_atoms)} atoms selected')\n",
    "# Careful! The structure is an MDTraj trajectory object, which uses nm.\n",
    "print(\"Manual selection:\", gistfile.integrate_around(['A'], centers=gistfile.struct.xyz[0, selected_atoms, :] * 10., rmax=3.0)['A'])\n",
    "print(\"projection_nearest:\", gistfile.projection_nearest(['A'], rmax=7.0).loc[selected_atoms, 'A'].sum())"
   ]
  },
  {
   "cell_type": "markdown",
   "metadata": {},
   "source": [
    "## RDF functionality\n",
    "Gisttools uses a slightly non-standard definition of rdf. Rather than computing an actual rdf (radial distribution function), it integrates the Gist columns in radial shells around the solute. This can be used to compute an actual rdf, but is more commonly applied to judge the convergence of GIST quantities with regards to the solute-solvent distance.\n",
    "\n",
    "An actual Rdf is a histogram of the population in a certain distance to the center of the solute, normalized by the volume of the respective bin and the reference density. If the Gist object's normalization is correct, this can be obtained from the g_O column:"
   ]
  },
  {
   "cell_type": "code",
   "execution_count": 18,
   "metadata": {},
   "outputs": [
    {
     "data": {
      "image/png": "[encoded data removed]",
      "text/plain": [
       "<Figure size 432x288 with 1 Axes>"
      ]
     },
     "metadata": {
      "needs_background": "light"
     },
     "output_type": "display_data"
    }
   ],
   "source": [
    "center = np.mean(gistfile.coord, axis=0)\n",
    "bins, (go_rdf, vox_rdf) = gistfile.multiple_rdfs(['g_O', 'voxels'], centers=center, rmax=10, bins=100, col_suffix='')\n",
    "plt.plot(bins, go_rdf / (vox_rdf * gistfile.grid.voxel_volume))\n",
    "plt.gca().set(xlabel='distance to solute COM [Å]', ylabel='relative oxygen density')\n",
    "plt.grid()"
   ]
  },
  {
   "cell_type": "markdown",
   "metadata": {},
   "source": [
    "An Rdf with regard to the closest atom (rather than the molecular center) will have a nicer first hydration shell, since it takes the non-spherical nature of the solute into account:"
   ]
  },
  {
   "cell_type": "code",
   "execution_count": 19,
   "metadata": {},
   "outputs": [
    {
     "data": {
      "image/png": "[encoded data removed]",
      "text/plain": [
       "<Figure size 432x288 with 1 Axes>"
      ]
     },
     "metadata": {
      "needs_background": "light"
     },
     "output_type": "display_data"
    }
   ],
   "source": [
    "bins, (go_rdf, vox_rdf) = gistfile.multiple_rdfs(['g_O', 'voxels'], rmax=10, bins=100, col_suffix='')\n",
    "plt.plot(bins, go_rdf / (vox_rdf * gistfile.grid.voxel_volume))\n",
    "plt.gca().set(xlabel='distance to closest solute atom [Å]', ylabel='relative oxygen density')\n",
    "plt.grid()"
   ]
  },
  {
   "cell_type": "markdown",
   "metadata": {},
   "source": [
    "Similarly, an \"Rdf\" of the solvent-solvent energy around the molecule can be obtained, with regard to the closest center."
   ]
  },
  {
   "cell_type": "code",
   "execution_count": 20,
   "metadata": {},
   "outputs": [
    {
     "data": {
      "image/png": "[encoded data removed]",
      "text/plain": [
       "<Figure size 432x288 with 1 Axes>"
      ]
     },
     "metadata": {
      "needs_background": "light"
     },
     "output_type": "display_data"
    }
   ],
   "source": [
    "bins, (rdf, pop_rdf) = gistfile.multiple_rdfs(['Eww_dens', 'population'], rmax=10, bins=100, col_suffix='')\n",
    "plt.plot(bins, rdf / (pop_rdf / (gistfile.n_frames * gistfile.grid.voxel_volume)))\n",
    "plt.gca().set(xlabel='distance to closest solute atom [Å]', ylabel='Average Eww_dens [kcal/mol/$Å^3$]')\n",
    "plt.grid()"
   ]
  },
  {
   "cell_type": "markdown",
   "metadata": {},
   "source": [
    "The rdf output is normalized in such a way that computing the sum corresponds to an integral over the specified column. We can compute the cumulative sum to see how the integral of Eww changes with the distance cutoff."
   ]
  },
  {
   "cell_type": "code",
   "execution_count": 21,
   "metadata": {},
   "outputs": [
    {
     "data": {
      "text/plain": [
       "[Text(0.5, 0, 'distance cutoff [Å]'), Text(0, 0.5, 'Eww integral [kcal/mol]')]"
      ]
     },
     "execution_count": 21,
     "metadata": {},
     "output_type": "execute_result"
    },
    {
     "data": {
      "image/png": "[encoded data removed]",
      "text/plain": [
       "<Figure size 432x288 with 1 Axes>"
      ]
     },
     "metadata": {
      "needs_background": "light"
     },
     "output_type": "display_data"
    }
   ],
   "source": [
    "plt.plot(bins, np.cumsum(rdf))\n",
    "plt.gca().set(xlabel='distance cutoff [Å]', ylabel='Eww integral [kcal/mol]')"
   ]
  },
  {
   "cell_type": "markdown",
   "metadata": {},
   "source": [
    "## Distance weights\n",
    "\n",
    "Several methods of Gist objects (`integrate_around`, `projection_nearest`, `projection_mean`) allow you to supply a distance weighting function. A few functional forms are predefined, but you can also specify callables. The predefined functions can be accessed via `gisttools.utils.distance_weight`."
   ]
  },
  {
   "cell_type": "code",
   "execution_count": 22,
   "metadata": {},
   "outputs": [],
   "source": [
    "from gisttools.utils import distance_weight"
   ]
  },
  {
   "cell_type": "code",
   "execution_count": 23,
   "metadata": {},
   "outputs": [
    {
     "data": {
      "text/plain": [
       "<matplotlib.legend.Legend at 0x7f63eed66d00>"
      ]
     },
     "execution_count": 23,
     "metadata": {},
     "output_type": "execute_result"
    },
    {
     "data": {
      "image/png": "[encoded data removed]",
      "text/plain": [
       "<Figure size 432x288 with 1 Axes>"
      ]
     },
     "metadata": {
      "needs_background": "light"
     },
     "output_type": "display_data"
    }
   ],
   "source": [
    "x = np.linspace(0, 15, 151)\n",
    "test_radii = [3, 5, 7, 10, 15]\n",
    "for radius in test_radii:\n",
    "    plt.plot(\n",
    "        x,\n",
    "        distance_weight(x, method=\"piecewise_linear\", constant=radius-3, cutoff=radius),\n",
    "        label=radius\n",
    "    )\n",
    "plt.xlabel(\"distance\")\n",
    "plt.ylabel(\"weight\")\n",
    "plt.legend()"
   ]
  },
  {
   "cell_type": "code",
   "execution_count": 24,
   "metadata": {},
   "outputs": [
    {
     "data": {
      "text/plain": [
       "<matplotlib.legend.Legend at 0x7f63eecdff70>"
      ]
     },
     "execution_count": 24,
     "metadata": {},
     "output_type": "execute_result"
    },
    {
     "data": {
      "image/png": "[encoded data removed]",
      "text/plain": [
       "<Figure size 432x288 with 1 Axes>"
      ]
     },
     "metadata": {
      "needs_background": "light"
     },
     "output_type": "display_data"
    }
   ],
   "source": [
    "x = np.linspace(0, 15, 151)\n",
    "test_radii = [3, 5, 7, 10, 15]\n",
    "for radius in test_radii:\n",
    "    weights = distance_weight(x, method=\"gaussian\", sigma=radius/3)\n",
    "    weights[x > radius] = 0\n",
    "    plt.plot(x, weights, label=radius)\n",
    "plt.xlabel(\"distance\")\n",
    "plt.ylabel(\"weight\")\n",
    "plt.legend()"
   ]
  },
  {
   "cell_type": "code",
   "execution_count": 25,
   "metadata": {},
   "outputs": [
    {
     "data": {
      "text/plain": [
       "<matplotlib.legend.Legend at 0x7f63eed54a00>"
      ]
     },
     "execution_count": 25,
     "metadata": {},
     "output_type": "execute_result"
    },
    {
     "data": {
      "image/png": "[encoded data removed]",
      "text/plain": [
       "<Figure size 432x288 with 1 Axes>"
      ]
     },
     "metadata": {
      "needs_background": "light"
     },
     "output_type": "display_data"
    }
   ],
   "source": [
    "x = np.linspace(0, 15, 151)\n",
    "test_radii = [3, 5, 7, 10, 15]\n",
    "for radius in test_radii:\n",
    "    weights = distance_weight(x, method=\"logistic\", k=20/radius, x0=radius*0.75)\n",
    "    weights[x > radius] = 0\n",
    "    plt.plot(x, weights, label=radius)\n",
    "plt.xlabel(\"distance\")\n",
    "plt.ylabel(\"weight\")\n",
    "plt.legend()"
   ]
  },
  {
   "cell_type": "markdown",
   "metadata": {},
   "source": [
    "## Write OpenDX files"
   ]
  },
  {
   "cell_type": "markdown",
   "metadata": {},
   "source": [
    "`gisttools` supports minimal `.dx` writing capabilities, enough to export single arrays for PyMOL or VMD."
   ]
  },
  {
   "cell_type": "code",
   "execution_count": 26,
   "metadata": {},
   "outputs": [
    {
     "name": "stdout",
     "output_type": "stream",
     "text": [
      "object 1 class gridpositions counts 81 81 81\n",
      "origin -20.0 -20.0 -20.0\n",
      "delta 0.5 0 0\n",
      "delta 0 0.5 0\n",
      "delta 0 0 0.5\n",
      "object 2 class gridconnections counts 81 81 81\n",
      "object 3 class array type double rank 0 items 531441 data follows\n",
      "0.003072\n",
      "0.008245\n",
      "0.014004\n",
      "0.005351\n",
      "-0.001607\n",
      "-0.012076\n",
      "0.001822\n",
      "-0.012664\n",
      "-0.010144\n"
     ]
    }
   ],
   "source": [
    "with tempfile.TemporaryDirectory() as tmpdir:\n",
    "    fname = os.path.join(tmpdir, 'A_dens_test.dx')\n",
    "    gistfile.save_dx('A_dens', fname)\n",
    "    with open(fname) as f:\n",
    "        for l in f.readlines(300):\n",
    "            print(l, end='')"
   ]
  },
  {
   "cell_type": "markdown",
   "metadata": {},
   "source": [
    "## Off-label use-cases of the Grid class\n",
    "The Grid class can be handy in situations that are not related to GIST. E.g., it can be combined with scikit-image to create a triangulated solvent-accessible surface."
   ]
  },
  {
   "cell_type": "code",
   "execution_count": 27,
   "metadata": {},
   "outputs": [],
   "source": [
    "from skimage.measure import marching_cubes\n",
    "from scipy.interpolate import interpn\n",
    "import ipyvolume as ipv"
   ]
  },
  {
   "cell_type": "markdown",
   "metadata": {},
   "source": [
    "Define element colors:"
   ]
  },
  {
   "cell_type": "code",
   "execution_count": 28,
   "metadata": {},
   "outputs": [],
   "source": [
    "elem_colors = np.zeros((20, 3), dtype=float) # all black, no elements over 20\n",
    "elem_colors[1] = [.7, .7, .7] # hydrogen light gray\n",
    "elem_colors[6] = [.3, .3, .3] # carbon dark gray\n",
    "elem_colors[7] = [0, .2, 1] # nitrogen blue\n",
    "elem_colors[8] = [1, 0, 0] # oxygen red"
   ]
  },
  {
   "cell_type": "markdown",
   "metadata": {},
   "source": [
    "Using the Gist class: "
   ]
  },
  {
   "cell_type": "code",
   "execution_count": 29,
   "metadata": {},
   "outputs": [],
   "source": [
    "SOLVENT_RADIUS = 1.4\n",
    "\n",
    "solute_distance = np.full(gistfile.grid.shape, np.inf)\n",
    "closest_atom = np.zeros(gistfile.grid.shape, dtype=int)\n",
    "ii, atoms, dd = gistfile.distance_to_spheres(rmax=4, atomic_radii='struct')\n",
    "solute_distance.ravel()[ii] = dd\n",
    "closest_atom.ravel()[ii] = atoms\n",
    "\n",
    "verts, faces, normals, values = marching_cubes(solute_distance, level=SOLVENT_RADIUS, spacing=gistfile.grid.delta, gradient_direction='ascent')\n",
    "verts += gistfile.grid.origin\n",
    "elements = np.array([a.element.number for a in gistfile.struct.top.atoms])\n",
    "colors = interpn(gistfile.grid.edges, elem_colors[elements[closest_atom]], verts)"
   ]
  },
  {
   "cell_type": "code",
   "execution_count": 30,
   "metadata": {},
   "outputs": [
    {
     "data": {
      "application/vnd.jupyter.widget-view+json": {
       "model_id": "57e6f3a0c7bc4ac48896faee9a559780",
       "version_major": 2,
       "version_minor": 0
      },
      "text/plain": [
       "VBox(children=(Figure(camera=PerspectiveCamera(fov=45.0, position=(0.0, 0.0, 2.0), projectionMatrix=(1.0, 0.0,…"
      ]
     },
     "metadata": {},
     "output_type": "display_data"
    }
   ],
   "source": [
    "ipv.figure()\n",
    "ipv.plot_trisurf(*verts.T, triangles=faces, color=colors)\n",
    "ipv.xyzlim(-4, 4)\n",
    "ipv.show()"
   ]
  },
  {
   "cell_type": "markdown",
   "metadata": {},
   "source": [
    "Using the Grid class gives more control, e.g., the Grid spacing can be fine-tuned. Depending on the grid size, this can be RAM-intensive..."
   ]
  },
  {
   "cell_type": "code",
   "execution_count": 31,
   "metadata": {},
   "outputs": [],
   "source": [
    "SOLVENT_RADIUS = 1.4\n",
    "grid = gt.grid.Grid.centered([0, 0, 0], 160, .1)\n",
    "coords = gistfile.coord # already in Angstrom\n",
    "radii = np.array([a.element.radius for a in gistfile.struct.top.atoms]) * 10.\n",
    "\n",
    "solute_distance = np.full(grid.shape, np.inf)\n",
    "closest_atom = np.zeros(grid.shape, dtype=int)\n",
    "ii, atoms, dd = grid.distance_to_spheres(coords, rmax=4, radii=radii)\n",
    "solute_distance.ravel()[ii] = dd\n",
    "closest_atom.ravel()[ii] = atoms\n",
    "\n",
    "verts, faces, normals, values = marching_cubes(solute_distance, level=SOLVENT_RADIUS, spacing=grid.delta, gradient_direction='ascent')\n",
    "verts += grid.origin\n",
    "elements = np.array([a.element.number for a in gistfile.struct.top.atoms])\n",
    "colors = interpn(grid.edges, elem_colors[elements[closest_atom]], verts)"
   ]
  },
  {
   "cell_type": "code",
   "execution_count": 32,
   "metadata": {},
   "outputs": [
    {
     "data": {
      "application/vnd.jupyter.widget-view+json": {
       "model_id": "1691447ef14b43a9846b0439888d24d9",
       "version_major": 2,
       "version_minor": 0
      },
      "text/plain": [
       "VBox(children=(Figure(camera=PerspectiveCamera(fov=45.0, position=(0.0, 0.0, 2.0), projectionMatrix=(1.0, 0.0,…"
      ]
     },
     "metadata": {},
     "output_type": "display_data"
    }
   ],
   "source": [
    "ipv.figure()\n",
    "ipv.plot_trisurf(*verts.T, triangles=faces, color=colors)\n",
    "origin = grid.origin - grid.delta / 2\n",
    "end = grid.xyzmax + grid.delta / 2\n",
    "ipv.xlim(origin[0], end[0])\n",
    "ipv.ylim(origin[1], end[1])\n",
    "ipv.zlim(origin[2], end[2])\n",
    "ipv.show()"
   ]
  },
  {
   "cell_type": "markdown",
   "metadata": {},
   "source": [
    "Solvent-excluded surfaces (like those in PyMOL or VMD) can be done in a 2-step procedure. However, this is not very efficient, and there are artefacts when the molecule touches the grid boundary."
   ]
  },
  {
   "cell_type": "code",
   "execution_count": 33,
   "metadata": {},
   "outputs": [],
   "source": [
    "SOLVENT_RADIUS = 1.4\n",
    "grid = gt.grid.Grid.centered([0, 0, 0], 160, .1)\n",
    "coords = gistfile.coord # already in Angstrom\n",
    "radii = np.array([a.element.radius for a in gistfile.struct.top.atoms]) * 10.\n",
    "\n",
    "accessible_distance = np.full(grid.shape, np.inf)\n",
    "ii, _, dd = grid.distance_to_spheres(coords, rmax=4, radii=radii)\n",
    "accessible_distance.ravel()[ii] = dd\n",
    "accessible_verts, _, _, _ = marching_cubes(accessible_distance, level=SOLVENT_RADIUS, spacing=grid.delta, gradient_direction='ascent')\n",
    "accessible_verts += grid.origin\n",
    "outside = accessible_distance > 2\n",
    "\n",
    "excluded_distance = np.full(grid.shape, np.inf)\n",
    "ii, _, dd = grid.distance_to_centers(accessible_verts, rmax=2)\n",
    "excluded_distance.ravel()[ii] = dd\n",
    "excluded_distance[outside] = -10\n",
    "\n",
    "verts, faces, normals, values = marching_cubes(excluded_distance, level=SOLVENT_RADIUS, spacing=grid.delta, gradient_direction='descent')\n",
    "verts += grid.origin\n",
    "elements = np.array([a.element.number for a in gistfile.struct.top.atoms])\n",
    "colors = interpn(grid.edges, elem_colors[elements[closest_atom]], verts)"
   ]
  },
  {
   "cell_type": "code",
   "execution_count": 34,
   "metadata": {},
   "outputs": [
    {
     "data": {
      "application/vnd.jupyter.widget-view+json": {
       "model_id": "a81f3ce8261c4081805d5516e98bb12b",
       "version_major": 2,
       "version_minor": 0
      },
      "text/plain": [
       "VBox(children=(Figure(camera=PerspectiveCamera(fov=45.0, position=(0.0, 0.0, 2.0), projectionMatrix=(1.0, 0.0,…"
      ]
     },
     "metadata": {},
     "output_type": "display_data"
    }
   ],
   "source": [
    "ipv.figure()\n",
    "ipv.plot_trisurf(*verts.T, triangles=faces, color=colors)\n",
    "origin = grid.origin - grid.delta / 2\n",
    "end = grid.xyzmax + grid.delta / 2\n",
    "ipv.xlim(origin[0], end[0])\n",
    "ipv.ylim(origin[1], end[1])\n",
    "ipv.zlim(origin[2], end[2])\n",
    "ipv.show()"
   ]
  },
  {
   "cell_type": "code",
   "execution_count": null,
   "metadata": {},
   "outputs": [],
   "source": []
  }
 ],
 "metadata": {
  "kernelspec": {
   "display_name": "Python 3 (ipykernel)",
   "language": "python",
   "name": "python3"
  },
  "language_info": {
   "codemirror_mode": {
    "name": "ipython",
    "version": 3
   },
   "file_extension": ".py",
   "mimetype": "text/x-python",
   "name": "python",
   "nbconvert_exporter": "python",
   "pygments_lexer": "ipython3",
   "version": "3.9.5"
  },
  "toc": {
   "base_numbering": 1,
   "nav_menu": {},
   "number_sections": true,
   "sideBar": true,
   "skip_h1_title": false,
   "title_cell": "Table of Contents",
   "title_sidebar": "Contents",
   "toc_cell": false,
   "toc_position": {
    "height": "calc(100% - 180px)",
    "left": "10px",
    "top": "150px",
    "width": "384px"
   },
   "toc_section_display": true,
   "toc_window_display": true
  }
 },
 "nbformat": 4,
 "nbformat_minor": 4
}
